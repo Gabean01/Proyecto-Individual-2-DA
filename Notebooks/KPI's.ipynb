{
 "cells": [
  {
   "cell_type": "code",
   "execution_count": 1,
   "metadata": {},
   "outputs": [],
   "source": [
    "import pandas as pd\n",
    "from datetime import datetime"
   ]
  },
  {
   "cell_type": "code",
   "execution_count": 2,
   "metadata": {},
   "outputs": [],
   "source": [
    "# Lectura de los datos\n",
    "df_homicidios = pd.read_csv(\"C:\\\\Users\\\\Gary Alexander Bean\\\\Desktop\\\\Proyecto-Individual-2-DA\\\\Datasets\\\\homicidios_limpio.csv\")\n",
    "df_provincias = pd.read_csv(\"C:\\\\Users\\\\Gary Alexander Bean\\\\Desktop\\\\Proyecto-Individual-2-DA\\\\Datasets\\\\Provincias.csv\", sep=',')\n"
   ]
  },
  {
   "cell_type": "markdown",
   "metadata": {},
   "source": [
    "## KPI 1: Reducción del 10% en la tasa de homicidios en siniestros viales de los últimos seis meses en CABA.\n",
    "\n",
    "**Definición:**\n",
    "La tasa de homicidios en siniestros viales se refiere al número de víctimas fatales en accidentes de tránsito por cada 100,000 habitantes en un área geográfica durante un período de tiempo específico.\n",
    "\n",
    "**Fórmula:**\n",
    "Tasa de homicidios en siniestros viales = (Número de homicidios en siniestros viales / Población total) × 100,000\n",
    "\n",
    "**Pasos para medir:**\n",
    "1. Obtener el número total de homicidios en siniestros viales de los últimos seis meses.\n",
    "2. Calcular la población total de CABA.\n",
    "3. Calcular la tasa de homicidios en siniestros viales.\n",
    "4. Comparar esta tasa con la del semestre anterior.\n",
    "5. Calcular la reducción porcentual."
   ]
  },
  {
   "cell_type": "code",
   "execution_count": 6,
   "metadata": {},
   "outputs": [
    {
     "name": "stdout",
     "output_type": "stream",
     "text": [
      "Resultados del primer KPI:\n",
      "Reducción porcentual: 23.64%\n",
      "Condición: cumple con el objetivo del 10%\n",
      "Fecha de inicio del semestre actual: 2021-06-30 00:00:00\n",
      "Fecha de inicio del semestre anterior: 2020-12-30 00:00:00\n",
      "Tasa de homicidios en siniestros viales del semestre anterior: 1.76\n",
      "Tasa de homicidios en siniestros viales del semestre actual: 1.35\n"
     ]
    }
   ],
   "source": [
    "# Conversión de la columna 'fecha' a tipo datetime\n",
    "df_homicidios['fecha'] = pd.to_datetime(df_homicidios['fecha'], errors='coerce')\n",
    "\n",
    "# Población de CABA\n",
    "poblacion_CABA = 3121707\n",
    "\n",
    "# Se encuentra la última fecha en el DataFrame de homicidios\n",
    "ultima_fecha = df_homicidios['fecha'].max()\n",
    "\n",
    "# Se calcula la fecha de inicio del semestre actual y anterior\n",
    "semestre_actual_inicio = ultima_fecha - pd.DateOffset(months=6)\n",
    "semestre_anterior_inicio = ultima_fecha - pd.DateOffset(months=12)\n",
    "\n",
    "# Se filtran los datos para el semestre actual y anterior\n",
    "datos_semestre_actual = df_homicidios[(df_homicidios['fecha'] >= semestre_actual_inicio) & (df_homicidios['fecha'] <= ultima_fecha)]\n",
    "datos_semestre_anterior = df_homicidios[(df_homicidios['fecha'] >= semestre_anterior_inicio) & (df_homicidios['fecha'] <= semestre_actual_inicio)]\n",
    "\n",
    "# Se calcula la tasa de homicidios para el semestre actual y anterior\n",
    "tasa_homicidios_actual = (datos_semestre_actual['nro_victimas'].sum() / poblacion_CABA) * 100000\n",
    "tasa_homicidios_anterior = (datos_semestre_anterior['nro_victimas'].sum() / poblacion_CABA) * 100000\n",
    "\n",
    "# Se calcula la reducción porcentual del primer KPI\n",
    "reduccion_porcentual_semestral = ((tasa_homicidios_anterior - tasa_homicidios_actual) / tasa_homicidios_anterior) * 100\n",
    "\n",
    "# Se verifica si se cumple el objetivo del 10% de reducción para el primer KPI\n",
    "if reduccion_porcentual_semestral >= 10:\n",
    "    condicion_semestral = \"cumple con el objetivo del 10%\"\n",
    "else:\n",
    "    condicion_semestral = \"no cumple con el objetivo del 10%\"\n",
    "\n",
    "# Impresión de los resultados del primer KPI\n",
    "print(\"Resultados del primer KPI:\")\n",
    "print(f\"Reducción porcentual: {reduccion_porcentual_semestral:.2f}%\")\n",
    "print(f\"Condición: {condicion_semestral}\")\n",
    "print(f\"Fecha de inicio del semestre actual: {semestre_actual_inicio}\")\n",
    "print(f\"Fecha de inicio del semestre anterior: {semestre_anterior_inicio}\")\n",
    "print(f\"Tasa de homicidios en siniestros viales del semestre anterior: {tasa_homicidios_anterior:.2f}\")\n",
    "print(f\"Tasa de homicidios en siniestros viales del semestre actual: {tasa_homicidios_actual:.2f}\")"
   ]
  },
  {
   "cell_type": "markdown",
   "metadata": {},
   "source": [
    "### KPI 2: Reducción del 7% en la cantidad de accidentes mortales de motociclistas en el último año en CABA.\n",
    "\n",
    "**Definición:**\n",
    "La cantidad de accidentes mortales de motociclistas en siniestros viales se refiere al número absoluto de accidentes fatales en los que estuvieron involucradas víctimas que viajaban en moto en un determinado período temporal.\n",
    "\n",
    "**Fórmula:**\n",
    "Reducción porcentual = ((Número de accidentes mortales con víctimas en moto en el año anterior - Número de accidentes mortales con víctimas en moto en el año actual) / Número de accidentes mortales con víctimas en moto en el año anterior) × 100\n",
    "\n",
    "**Pasos para medir:**\n",
    "1. Obtener el número total de accidentes mortales con víctimas en moto del último año.\n",
    "2. Obtener el número total de accidentes mortales con víctimas en moto del año anterior.\n",
    "3. Calcular la reducción porcentual.\n"
   ]
  },
  {
   "cell_type": "code",
   "execution_count": 7,
   "metadata": {},
   "outputs": [
    {
     "name": "stdout",
     "output_type": "stream",
     "text": [
      "Resultados del segundo KPI:\n",
      "Reducción porcentual: -64.29%\n",
      "Condición: no cumple con el objetivo del 7%\n",
      "Fecha de inicio del año actual: 2020-12-30 00:00:00\n",
      "Fecha de inicio del año anterior: 2019-12-30 00:00:00\n",
      "Cantidad de homicidios en moto en el año anterior: 28.00\n",
      "Cantidad de homicidios en moto en el año actual: 46.00\n"
     ]
    }
   ],
   "source": [
    "# Conversión de la columna 'fecha' a tipo datetime\n",
    "df_homicidios['fecha'] = pd.to_datetime(df_homicidios['fecha'], errors='coerce')\n",
    "\n",
    "# Se filtran los datos solo para motociclistas\n",
    "accidentes_moto = df_homicidios[df_homicidios['vehiculo_victima'] == 'moto']\n",
    "\n",
    "# Se encuentra la última fecha en el DataFrame de accidentes de motociclistas\n",
    "ultima_fecha_moto = accidentes_moto['fecha'].max()\n",
    "\n",
    "# Se calcula la fecha de inicio del año actual y del año anterior\n",
    "anio_actual_inicio = ultima_fecha_moto - pd.DateOffset(years=1)\n",
    "anio_anterior_inicio = ultima_fecha_moto - pd.DateOffset(years=2)\n",
    "\n",
    "# Se filtran los datos para el último año y el año anterior\n",
    "datos_anio_actual = accidentes_moto[(accidentes_moto['fecha'] >= anio_actual_inicio) & (accidentes_moto['fecha'] <= ultima_fecha_moto)]\n",
    "datos_anio_anterior = accidentes_moto[(accidentes_moto['fecha'] >= anio_anterior_inicio) & (accidentes_moto['fecha'] <= anio_actual_inicio)]\n",
    "\n",
    "# Se cuentan la cantidad de accidentes mortales con motociclistas por año\n",
    "accidentes_actual = len(datos_anio_actual)\n",
    "accidentes_anterior = len(datos_anio_anterior)\n",
    "\n",
    "# Se calcula la reducción porcentual del segundo KPI\n",
    "reduccion_porcentual_anual = ((accidentes_anterior - accidentes_actual) / accidentes_anterior) * 100\n",
    "\n",
    "# Se verifica si se cumple el objetivo del 7% de reducción para el segundo KPI\n",
    "if reduccion_porcentual_anual >= 7:\n",
    "    condicion_anual = \"cumple con el objetivo del 7%\"\n",
    "else:\n",
    "    condicion_anual = \"no cumple con el objetivo del 7%\"\n",
    "\n",
    "# Impresión de los resultados del segundo KPI\n",
    "print(\"Resultados del segundo KPI:\")\n",
    "print(f\"Reducción porcentual: {reduccion_porcentual_anual:.2f}%\")\n",
    "print(f\"Condición: {condicion_anual}\")\n",
    "print(f\"Fecha de inicio del año actual: {anio_actual_inicio}\")\n",
    "print(f\"Fecha de inicio del año anterior: {anio_anterior_inicio}\")\n",
    "print(f\"Cantidad de homicidios en moto en el año anterior: {accidentes_anterior:.2f}\")\n",
    "print(f\"Cantidad de homicidios en moto en el año actual: {accidentes_actual:.2f}\")"
   ]
  },
  {
   "cell_type": "markdown",
   "metadata": {},
   "source": [
    "### Tercer KPI: Comparación de la tasa de homicidios en siniestros viales de CABA con el resto del país.\n",
    "\n",
    "**Definición:**\n",
    "Este KPI compara la tasa de homicidios en siniestros viales de CABA con la media de la tasa de homicidios en siniestros viales de todas las provincias argentinas.\n",
    "\n",
    "**Fórmula:**\n",
    "Performance = ((Tasa de homicidios en siniestros viales de CABA / Media de la tasa de homicidios en siniestros viales de todas las provincias argentinas)) × 100\n",
    "\n",
    "**Pasos para medir:**\n",
    "1. Calcular la tasa de homicidios en siniestros viales de CABA.\n",
    "2. Calcular la media de la tasa de homicidios en siniestros viales de todas las provincias argentinas.\n",
    "3. Calcular la performance.\n"
   ]
  },
  {
   "cell_type": "code",
   "execution_count": 10,
   "metadata": {},
   "outputs": [
    {
     "data": {
      "text/plain": [
       "Index(['id_siniestro', 'nro_victimas', 'fecha', 'franja_hora', 'tipo_calle',\n",
       "       'comuna', 'longitud', 'latitud', 'vehiculo_victima', 'vehiculo_acusado',\n",
       "       'rol', 'sexo', 'edad', 'gravedad'],\n",
       "      dtype='object')"
      ]
     },
     "execution_count": 10,
     "metadata": {},
     "output_type": "execute_result"
    }
   ],
   "source": [
    "df_homicidios.columns"
   ]
  },
  {
   "cell_type": "code",
   "execution_count": 13,
   "metadata": {},
   "outputs": [],
   "source": [
    "# Seleccionar solo los datos del año 2019\n",
    "datos_anio_2019 = df_homicidios[df_homicidios['fecha'].dt.year == 2019]\n",
    "\n",
    "# Calcular la tasa de homicidios en siniestros viales del 2019 para CABA\n",
    "tasa_homicidios_2019 = (datos_anio_2019['nro_victimas'].sum() / poblacion_CABA) * 100000\n"
   ]
  },
  {
   "cell_type": "code",
   "execution_count": 12,
   "metadata": {},
   "outputs": [
    {
     "name": "stdout",
     "output_type": "stream",
     "text": [
      "Resultados del tercer KPI:\n",
      "Tasa de homicidios en siniestros viales de CABA en 2019: 3.40\n",
      "Media de la tasa de homicidios en siniestros viales de todas las provincias argentinas: 13.39\n",
      "Performance: 25.36%\n"
     ]
    }
   ],
   "source": [
    "# Se calcula la tasa de homicidios en siniestros viales del 2019 para CABA\n",
    "tasa_homicidios_2019 = (datos_anio_2019['nro_victimas'].sum() / poblacion_CABA) * 100000\n",
    "\n",
    "# Se calcula la media de la tasa de homicidios en siniestros viales de todas las provincias argentinas\n",
    "media_tasa_homicidios_provincias = df_provincias['tasa_mortalidad'].mean()\n",
    "\n",
    "# Se calcula el performance de CABA comparado con el resto del país\n",
    "performance_tasa_homicidios = (tasa_homicidios_2019 / media_tasa_homicidios_provincias) * 100\n",
    "\n",
    "# Impresión de los resultados del tercer KPI\n",
    "print(\"Resultados del tercer KPI:\")\n",
    "print(f\"Tasa de homicidios en siniestros viales de CABA en 2019: {tasa_homicidios_2019:.2f}\")\n",
    "print(f\"Media de la tasa de homicidios en siniestros viales de todas las provincias argentinas: {media_tasa_homicidios_provincias:.2f}\")\n",
    "print(f\"Performance: {performance_tasa_homicidios:.2f}%\")\n"
   ]
  }
 ],
 "metadata": {
  "kernelspec": {
   "display_name": "Python 3",
   "language": "python",
   "name": "python3"
  },
  "language_info": {
   "codemirror_mode": {
    "name": "ipython",
    "version": 3
   },
   "file_extension": ".py",
   "mimetype": "text/x-python",
   "name": "python",
   "nbconvert_exporter": "python",
   "pygments_lexer": "ipython3",
   "version": "3.12.0"
  }
 },
 "nbformat": 4,
 "nbformat_minor": 2
}
